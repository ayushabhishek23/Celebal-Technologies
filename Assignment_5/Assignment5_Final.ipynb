{
 "cells": [
  {
   "cell_type": "code",
   "execution_count": 1,
   "id": "b62f4444-4961-48e4-acc6-9fe9fe1ea08f",
   "metadata": {},
   "outputs": [],
   "source": [
    "import pandas as pd\n",
    "import sqlite3\n",
    "import pyarrow as pa\n",
    "import pyarrow.parquet as pq\n",
    "import fastavro\n",
    "\n",
    "# Step 1: Load CSV into SQLite\n",
    "df = pd.read_csv('HousingData.csv')\n",
    "conn = sqlite3.connect('housing.db')\n",
    "df.to_sql('housing', conn, if_exists='replace', index=False)\n",
    "\n",
    "# Step 2: Export to CSV\n",
    "df.to_csv('housing_output.csv', index=False)\n",
    "\n",
    "# Step 3: Export to Parquet\n",
    "table = pa.Table.from_pandas(df)\n",
    "pq.write_table(table, 'housing.parquet')\n",
    "\n",
    "# Step 4: Export to Avro\n",
    "records = df.to_dict(orient='records')\n",
    "schema = {\n",
    "    \"doc\": \"Housing Data\",\n",
    "    \"name\": \"HousingRecord\",\n",
    "    \"namespace\": \"housing.avro\",\n",
    "    \"type\": \"record\",\n",
    "    \"fields\": [\n",
    "        {\"name\": col, \"type\": [\"null\", \"double\"]} for col in df.columns\n",
    "    ]\n",
    "}\n",
    "with open('housing.avro', 'wb') as out:\n",
    "    fastavro.writer(out, schema, records)\n",
    "\n",
    "conn.close()\n"
   ]
  },
  {
   "cell_type": "code",
   "execution_count": 2,
   "id": "0e11c0ee-9fdd-45eb-800d-c4efd1f68e61",
   "metadata": {},
   "outputs": [
    {
     "name": "stdout",
     "output_type": "stream",
     "text": [
      "Scheduled export completed.\n",
      "Scheduled export completed.\n"
     ]
    }
   ],
   "source": [
    "import schedule\n",
    "import time\n",
    "\n",
    "def export_pipeline():\n",
    "    conn = sqlite3.connect('housing.db')\n",
    "    df = pd.read_sql(\"SELECT * FROM housing\", conn)\n",
    "    df.to_csv(\"scheduled_output.csv\", index=False)\n",
    "    conn.close()\n",
    "    print(\"Scheduled export completed.\")\n",
    "\n",
    "# Schedule every 1 minute (example)\n",
    "schedule.every(1).minutes.do(export_pipeline)\n",
    "\n",
    "# Simulate 3 cycles\n",
    "for _ in range(3):\n",
    "    schedule.run_pending()\n",
    "    time.sleep(60)\n"
   ]
  },
  {
   "cell_type": "code",
   "execution_count": 3,
   "id": "6f44ca17-c8ae-4a53-ba85-0be341d5bd9e",
   "metadata": {},
   "outputs": [],
   "source": [
    "source_conn = sqlite3.connect('housing.db')\n",
    "dest_conn = sqlite3.connect('housing_copy.db')\n",
    "\n",
    "# Copy all tables dynamically\n",
    "tables = source_conn.execute(\"SELECT name FROM sqlite_master WHERE type='table';\").fetchall()\n",
    "\n",
    "for table_name in tables:\n",
    "    table = table_name[0]\n",
    "    df = pd.read_sql(f\"SELECT * FROM {table}\", source_conn)\n",
    "    df.to_sql(table, dest_conn, if_exists='replace', index=False)\n",
    "\n",
    "source_conn.close()\n",
    "dest_conn.close()\n"
   ]
  },
  {
   "cell_type": "code",
   "execution_count": 4,
   "id": "b7e4413e-e805-4a49-bb9a-511e30819d9d",
   "metadata": {},
   "outputs": [],
   "source": [
    "source_conn = sqlite3.connect('housing.db')\n",
    "dest_conn = sqlite3.connect('housing_filtered_copy.db')\n",
    "\n",
    "# Example: Select a few columns\n",
    "df = pd.read_sql(\"SELECT CRIM, ZN, INDUS FROM housing\", source_conn)\n",
    "df.to_sql('housing_filtered', dest_conn, if_exists='replace', index=False)\n",
    "\n",
    "source_conn.close()\n",
    "dest_conn.close()\n"
   ]
  },
  {
   "cell_type": "code",
   "execution_count": 5,
   "id": "cedaabeb-740a-46e5-a897-2bbc57649cf4",
   "metadata": {},
   "outputs": [
    {
     "name": "stdout",
     "output_type": "stream",
     "text": [
      "      CRIM    ZN  INDUS\n",
      "0  0.00632  18.0   2.31\n",
      "1  0.02731   0.0   7.07\n",
      "2  0.02729   0.0   7.07\n",
      "3  0.03237   0.0   2.18\n",
      "4  0.06905   0.0   2.18\n",
      "Rows loaded: 506\n"
     ]
    }
   ],
   "source": [
    "print(df.head())  # Show first 5 rows\n",
    "print(\"Rows loaded:\", len(df))\n"
   ]
  },
  {
   "cell_type": "code",
   "execution_count": 6,
   "id": "83b24d8b-ac3a-4fe7-a7a5-5e36d2e498bd",
   "metadata": {},
   "outputs": [
    {
     "name": "stdout",
     "output_type": "stream",
     "text": [
      "CSV export complete: housing_output.csv\n",
      "Parquet export complete: housing.parquet\n",
      "Avro export complete: housing.avro\n"
     ]
    }
   ],
   "source": [
    "print(\"CSV export complete: housing_output.csv\")\n",
    "print(\"Parquet export complete: housing.parquet\")\n",
    "print(\"Avro export complete: housing.avro\")\n"
   ]
  },
  {
   "cell_type": "code",
   "execution_count": 7,
   "id": "d2fe2bda-b06e-449f-b037-60f318f04686",
   "metadata": {},
   "outputs": [
    {
     "name": "stdout",
     "output_type": "stream",
     "text": [
      "CSV exists: True\n",
      "Parquet exists: True\n",
      "Avro exists: True\n"
     ]
    }
   ],
   "source": [
    "import os\n",
    "\n",
    "print(\"CSV exists:\", os.path.exists(\"housing_output.csv\"))\n",
    "print(\"Parquet exists:\", os.path.exists(\"housing.parquet\"))\n",
    "print(\"Avro exists:\", os.path.exists(\"housing.avro\"))\n"
   ]
  },
  {
   "cell_type": "code",
   "execution_count": 8,
   "id": "da9327ea-4ade-41f1-aca5-cbd4ebc1683e",
   "metadata": {},
   "outputs": [
    {
     "name": "stdout",
     "output_type": "stream",
     "text": [
      "      CRIM    ZN  INDUS  CHAS    NOX     RM   AGE     DIS  RAD  TAX  PTRATIO  \\\n",
      "0  0.00632  18.0   2.31   0.0  0.538  6.575  65.2  4.0900    1  296     15.3   \n",
      "1  0.02731   0.0   7.07   0.0  0.469  6.421  78.9  4.9671    2  242     17.8   \n",
      "2  0.02729   0.0   7.07   0.0  0.469  7.185  61.1  4.9671    2  242     17.8   \n",
      "3  0.03237   0.0   2.18   0.0  0.458  6.998  45.8  6.0622    3  222     18.7   \n",
      "4  0.06905   0.0   2.18   0.0  0.458  7.147  54.2  6.0622    3  222     18.7   \n",
      "\n",
      "        B  LSTAT  MEDV  \n",
      "0  396.90   4.98  24.0  \n",
      "1  396.90   9.14  21.6  \n",
      "2  392.83   4.03  34.7  \n",
      "3  394.63   2.94  33.4  \n",
      "4  396.90    NaN  36.2  \n",
      "      CRIM    ZN  INDUS  CHAS    NOX     RM   AGE     DIS  RAD  TAX  PTRATIO  \\\n",
      "0  0.00632  18.0   2.31   0.0  0.538  6.575  65.2  4.0900    1  296     15.3   \n",
      "1  0.02731   0.0   7.07   0.0  0.469  6.421  78.9  4.9671    2  242     17.8   \n",
      "2  0.02729   0.0   7.07   0.0  0.469  7.185  61.1  4.9671    2  242     17.8   \n",
      "3  0.03237   0.0   2.18   0.0  0.458  6.998  45.8  6.0622    3  222     18.7   \n",
      "4  0.06905   0.0   2.18   0.0  0.458  7.147  54.2  6.0622    3  222     18.7   \n",
      "\n",
      "        B  LSTAT  MEDV  \n",
      "0  396.90   4.98  24.0  \n",
      "1  396.90   9.14  21.6  \n",
      "2  392.83   4.03  34.7  \n",
      "3  394.63   2.94  33.4  \n",
      "4  396.90    NaN  36.2  \n"
     ]
    }
   ],
   "source": [
    "# Check CSV\n",
    "print(pd.read_csv(\"housing_output.csv\").head())\n",
    "\n",
    "# Check Parquet\n",
    "print(pq.read_table(\"housing.parquet\").to_pandas().head())\n"
   ]
  },
  {
   "cell_type": "code",
   "execution_count": null,
   "id": "13f42d75-440a-4936-bdf6-62a5997e7b83",
   "metadata": {},
   "outputs": [],
   "source": []
  }
 ],
 "metadata": {
  "kernelspec": {
   "display_name": "Python 3 (ipykernel)",
   "language": "python",
   "name": "python3"
  },
  "language_info": {
   "codemirror_mode": {
    "name": "ipython",
    "version": 3
   },
   "file_extension": ".py",
   "mimetype": "text/x-python",
   "name": "python",
   "nbconvert_exporter": "python",
   "pygments_lexer": "ipython3",
   "version": "3.13.5"
  }
 },
 "nbformat": 4,
 "nbformat_minor": 5
}
